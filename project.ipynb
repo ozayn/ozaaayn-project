{
 "cells": [
  {
   "cell_type": "markdown",
   "id": "d4412f17",
   "metadata": {},
   "source": [
    "https://www.kaggle.com/cdc/national-health-and-nutrition-examination-survey\n",
    "\n",
    "https://wwwn.cdc.gov/Nchs/Nhanes/Search/variablelist.aspx?Component=Examination&CycleBeginYear=2013\n",
    "\n",
    "https://wwwn.cdc.gov/Nchs/Nhanes/Search/variablelist.aspx?Component=Dietary&CycleBeginYear=2013\n",
    "\n",
    "https://wwwn.cdc.gov/Nchs/Nhanes/Search/variablelist.aspx?Component=Laboratory&CycleBeginYear=2013\n",
    "\n",
    "31 MB"
   ]
  },
  {
   "cell_type": "code",
   "execution_count": 8,
   "id": "3694f6e7",
   "metadata": {},
   "outputs": [],
   "source": [
    "import pandas as pd"
   ]
  },
  {
   "cell_type": "code",
   "execution_count": 9,
   "id": "600c6857",
   "metadata": {},
   "outputs": [],
   "source": [
    "medications = pd.read_csv('nhnes/medications.csv')\n",
    "labs = pd.read_csv('nhnes/labs.csv')\n",
    "examination = pd.read_csv('nhnes/examination.csv')\n",
    "diet = pd.read_csv('nhnes/diet.csv')\n",
    "demographic = pd.read_csv('nhnes/demographic.csv')\n",
    "questionnaire = pd.read_csv('nhnes/questionnaire.csv')"
   ]
  },
  {
   "cell_type": "code",
   "execution_count": 10,
   "id": "289bdeed",
   "metadata": {},
   "outputs": [
    {
     "data": {
      "text/html": [
       "<div>\n",
       "<style scoped>\n",
       "    .dataframe tbody tr th:only-of-type {\n",
       "        vertical-align: middle;\n",
       "    }\n",
       "\n",
       "    .dataframe tbody tr th {\n",
       "        vertical-align: top;\n",
       "    }\n",
       "\n",
       "    .dataframe thead th {\n",
       "        text-align: right;\n",
       "    }\n",
       "</style>\n",
       "<table border=\"1\" class=\"dataframe\">\n",
       "  <thead>\n",
       "    <tr style=\"text-align: right;\">\n",
       "      <th></th>\n",
       "      <th>SEQN</th>\n",
       "      <th>RXDUSE</th>\n",
       "      <th>RXDDRUG</th>\n",
       "      <th>RXDDRGID</th>\n",
       "      <th>RXQSEEN</th>\n",
       "      <th>RXDDAYS</th>\n",
       "      <th>RXDRSC1</th>\n",
       "      <th>RXDRSC2</th>\n",
       "      <th>RXDRSC3</th>\n",
       "      <th>RXDRSD1</th>\n",
       "      <th>RXDRSD2</th>\n",
       "      <th>RXDRSD3</th>\n",
       "      <th>RXDCOUNT</th>\n",
       "    </tr>\n",
       "  </thead>\n",
       "  <tbody>\n",
       "    <tr>\n",
       "      <th>0</th>\n",
       "      <td>73557</td>\n",
       "      <td>1</td>\n",
       "      <td>99999</td>\n",
       "      <td>NaN</td>\n",
       "      <td>NaN</td>\n",
       "      <td>NaN</td>\n",
       "      <td>NaN</td>\n",
       "      <td>NaN</td>\n",
       "      <td>NaN</td>\n",
       "      <td>NaN</td>\n",
       "      <td>NaN</td>\n",
       "      <td>NaN</td>\n",
       "      <td>2.0</td>\n",
       "    </tr>\n",
       "    <tr>\n",
       "      <th>1</th>\n",
       "      <td>73557</td>\n",
       "      <td>1</td>\n",
       "      <td>INSULIN</td>\n",
       "      <td>d00262</td>\n",
       "      <td>2.0</td>\n",
       "      <td>1460.0</td>\n",
       "      <td>E11</td>\n",
       "      <td>NaN</td>\n",
       "      <td>NaN</td>\n",
       "      <td>Type 2 diabetes mellitus</td>\n",
       "      <td>NaN</td>\n",
       "      <td>NaN</td>\n",
       "      <td>2.0</td>\n",
       "    </tr>\n",
       "    <tr>\n",
       "      <th>2</th>\n",
       "      <td>73558</td>\n",
       "      <td>1</td>\n",
       "      <td>GABAPENTIN</td>\n",
       "      <td>d03182</td>\n",
       "      <td>1.0</td>\n",
       "      <td>243.0</td>\n",
       "      <td>G25.81</td>\n",
       "      <td>NaN</td>\n",
       "      <td>NaN</td>\n",
       "      <td>Restless legs syndrome</td>\n",
       "      <td>NaN</td>\n",
       "      <td>NaN</td>\n",
       "      <td>4.0</td>\n",
       "    </tr>\n",
       "    <tr>\n",
       "      <th>3</th>\n",
       "      <td>73558</td>\n",
       "      <td>1</td>\n",
       "      <td>INSULIN GLARGINE</td>\n",
       "      <td>d04538</td>\n",
       "      <td>1.0</td>\n",
       "      <td>365.0</td>\n",
       "      <td>E11</td>\n",
       "      <td>NaN</td>\n",
       "      <td>NaN</td>\n",
       "      <td>Type 2 diabetes mellitus</td>\n",
       "      <td>NaN</td>\n",
       "      <td>NaN</td>\n",
       "      <td>4.0</td>\n",
       "    </tr>\n",
       "    <tr>\n",
       "      <th>4</th>\n",
       "      <td>73558</td>\n",
       "      <td>1</td>\n",
       "      <td>OLMESARTAN</td>\n",
       "      <td>d04801</td>\n",
       "      <td>1.0</td>\n",
       "      <td>14.0</td>\n",
       "      <td>E11.2</td>\n",
       "      <td>NaN</td>\n",
       "      <td>NaN</td>\n",
       "      <td>Type 2 diabetes mellitus with kidney complicat...</td>\n",
       "      <td>NaN</td>\n",
       "      <td>NaN</td>\n",
       "      <td>4.0</td>\n",
       "    </tr>\n",
       "  </tbody>\n",
       "</table>\n",
       "</div>"
      ],
      "text/plain": [
       "    SEQN  RXDUSE           RXDDRUG RXDDRGID  RXQSEEN  RXDDAYS RXDRSC1 RXDRSC2  \\\n",
       "0  73557       1             99999      NaN      NaN      NaN     NaN     NaN   \n",
       "1  73557       1           INSULIN   d00262      2.0   1460.0     E11     NaN   \n",
       "2  73558       1        GABAPENTIN   d03182      1.0    243.0  G25.81     NaN   \n",
       "3  73558       1  INSULIN GLARGINE   d04538      1.0    365.0     E11     NaN   \n",
       "4  73558       1        OLMESARTAN   d04801      1.0     14.0   E11.2     NaN   \n",
       "\n",
       "  RXDRSC3                                            RXDRSD1 RXDRSD2 RXDRSD3  \\\n",
       "0     NaN                                                NaN     NaN     NaN   \n",
       "1     NaN                           Type 2 diabetes mellitus     NaN     NaN   \n",
       "2     NaN                             Restless legs syndrome     NaN     NaN   \n",
       "3     NaN                           Type 2 diabetes mellitus     NaN     NaN   \n",
       "4     NaN  Type 2 diabetes mellitus with kidney complicat...     NaN     NaN   \n",
       "\n",
       "   RXDCOUNT  \n",
       "0       2.0  \n",
       "1       2.0  \n",
       "2       4.0  \n",
       "3       4.0  \n",
       "4       4.0  "
      ]
     },
     "execution_count": 10,
     "metadata": {},
     "output_type": "execute_result"
    }
   ],
   "source": [
    "medications.head()"
   ]
  },
  {
   "cell_type": "code",
   "execution_count": 11,
   "id": "eb400c3c",
   "metadata": {},
   "outputs": [],
   "source": [
    "import ipywidgets as widgets\n",
    "import pandas as pd\n",
    "style = {'description_width': 'initial'}\n",
    "limit_case = widgets.IntSlider(\n",
    "    value=1000,\n",
    "    min=100,\n",
    "    max=5000,\n",
    "    step=1,\n",
    "    description='Max Number of Case:',\n",
    "    disabled=False,\n",
    "    style=style)"
   ]
  },
  {
   "cell_type": "code",
   "execution_count": 12,
   "id": "a6ea9a6e",
   "metadata": {},
   "outputs": [],
   "source": [
    "def update_df_length(limit):\n",
    "    \n",
    "    df = medications\n",
    "    df = df.iloc[0:limit, :]\n",
    "    \n",
    "    print(\"Number of rows in the dataset that have been successfully loaded:\"+str(len(df)))"
   ]
  },
  {
   "cell_type": "code",
   "execution_count": 13,
   "id": "23262642",
   "metadata": {},
   "outputs": [
    {
     "data": {
      "application/vnd.jupyter.widget-view+json": {
       "model_id": "002a140608424e75b236b9608745963a",
       "version_major": 2,
       "version_minor": 0
      },
      "text/plain": [
       "interactive(children=(IntSlider(value=1000, description='Max Number of Case:', max=5000, min=100, style=Slider…"
      ]
     },
     "metadata": {},
     "output_type": "display_data"
    }
   ],
   "source": [
    "widgets.interactive(update_df_length, limit=limit_case)"
   ]
  },
  {
   "cell_type": "code",
   "execution_count": null,
   "id": "26b7ab7f",
   "metadata": {},
   "outputs": [],
   "source": []
  },
  {
   "cell_type": "code",
   "execution_count": null,
   "id": "fa8e6716",
   "metadata": {},
   "outputs": [],
   "source": []
  }
 ],
 "metadata": {
  "kernelspec": {
   "display_name": "Python 3",
   "language": "python",
   "name": "python3"
  },
  "language_info": {
   "codemirror_mode": {
    "name": "ipython",
    "version": 3
   },
   "file_extension": ".py",
   "mimetype": "text/x-python",
   "name": "python",
   "nbconvert_exporter": "python",
   "pygments_lexer": "ipython3",
   "version": "3.9.5"
  }
 },
 "nbformat": 4,
 "nbformat_minor": 5
}

{
 "cells": [
  {
   "cell_type": "markdown",
   "id": "d4412f17",
   "metadata": {},
   "source": [
    "https://www.kaggle.com/cdc/national-health-and-nutrition-examination-survey\n",
    "\n",
    "https://wwwn.cdc.gov/Nchs/Nhanes/Search/variablelist.aspx?Component=Examination&CycleBeginYear=2013\n",
    "\n",
    "https://wwwn.cdc.gov/Nchs/Nhanes/Search/variablelist.aspx?Component=Dietary&CycleBeginYear=2013\n",
    "\n",
    "https://wwwn.cdc.gov/Nchs/Nhanes/Search/variablelist.aspx?Component=Laboratory&CycleBeginYear=2013\n",
    "\n",
    "31 MB"
   ]
  },
  {
   "cell_type": "code",
   "execution_count": 1,
   "id": "174e3f85",
   "metadata": {},
   "outputs": [],
   "source": [
    "import pandas as pd\n",
    "import numpy as np"
   ]
  },
  {
   "cell_type": "code",
   "execution_count": 3,
   "id": "9ba457ab",
   "metadata": {},
   "outputs": [
    {
     "data": {
      "text/html": [
       "<div>\n",
       "<style scoped>\n",
       "    .dataframe tbody tr th:only-of-type {\n",
       "        vertical-align: middle;\n",
       "    }\n",
       "\n",
       "    .dataframe tbody tr th {\n",
       "        vertical-align: top;\n",
       "    }\n",
       "\n",
       "    .dataframe thead th {\n",
       "        text-align: right;\n",
       "    }\n",
       "</style>\n",
       "<table border=\"1\" class=\"dataframe\">\n",
       "  <thead>\n",
       "    <tr style=\"text-align: right;\">\n",
       "      <th></th>\n",
       "      <th>col1</th>\n",
       "      <th>col2</th>\n",
       "    </tr>\n",
       "  </thead>\n",
       "  <tbody>\n",
       "    <tr>\n",
       "      <th>0</th>\n",
       "      <td>1</td>\n",
       "      <td>3</td>\n",
       "    </tr>\n",
       "    <tr>\n",
       "      <th>1</th>\n",
       "      <td>2</td>\n",
       "      <td>4</td>\n",
       "    </tr>\n",
       "  </tbody>\n",
       "</table>\n",
       "</div>"
      ],
      "text/plain": [
       "   col1  col2\n",
       "0     1     3\n",
       "1     2     4"
      ]
     },
     "execution_count": 3,
     "metadata": {},
     "output_type": "execute_result"
    }
   ],
   "source": [
    "d = {'col1': [1, 2], 'col2': [3, 4]}\n",
    "df = pd.DataFrame(data=d)\n",
    "df"
   ]
  },
  {
   "cell_type": "code",
   "execution_count": null,
   "id": "3694f6e7",
   "metadata": {},
   "outputs": [],
   "source": []
  },
  {
   "cell_type": "code",
   "execution_count": 3,
   "id": "600c6857",
   "metadata": {},
   "outputs": [],
   "source": [
    "# medications = pd.read_csv('nhnes/medications.csv')\n",
    "# labs = pd.read_csv('nhnes/labs.csv')\n",
    "# examination = pd.read_csv('nhnes/examination.csv')\n",
    "# diet = pd.read_csv('nhnes/diet.csv')\n",
    "# demographic = pd.read_csv('nhnes/demographic.csv')\n",
    "# questionnaire = pd.read_csv('nhnes/questionnaire.csv')"
   ]
  },
  {
   "cell_type": "code",
   "execution_count": 4,
   "id": "289bdeed",
   "metadata": {},
   "outputs": [],
   "source": [
    "# medications.head()"
   ]
  },
  {
   "cell_type": "code",
   "execution_count": 5,
   "id": "eb400c3c",
   "metadata": {},
   "outputs": [],
   "source": [
    "# import ipywidgets as widgets\n",
    "# import pandas as pd\n",
    "# style = {'description_width': 'initial'}\n",
    "# limit_case = widgets.IntSlider(\n",
    "#     value=1000,\n",
    "#     min=100,\n",
    "#     max=5000,\n",
    "#     step=1,\n",
    "#     description='Max Number of Case:',\n",
    "#     disabled=False,\n",
    "#     style=style)"
   ]
  },
  {
   "cell_type": "code",
   "execution_count": 6,
   "id": "a6ea9a6e",
   "metadata": {},
   "outputs": [],
   "source": [
    "# def update_df_length(limit):\n",
    "    \n",
    "#     df = medications\n",
    "#     df = df.iloc[0:limit, :]\n",
    "    \n",
    "#     print(\"Number of rows in the dataset that have been successfully loaded:\"+str(len(df)))"
   ]
  },
  {
   "cell_type": "code",
   "execution_count": 7,
   "id": "23262642",
   "metadata": {},
   "outputs": [],
   "source": [
    "# widgets.interactive(update_df_length, limit=limit_case)"
   ]
  },
  {
   "cell_type": "code",
   "execution_count": null,
   "id": "26b7ab7f",
   "metadata": {},
   "outputs": [],
   "source": []
  },
  {
   "cell_type": "code",
   "execution_count": null,
   "id": "fa8e6716",
   "metadata": {},
   "outputs": [],
   "source": []
  }
 ],
 "metadata": {
  "kernelspec": {
   "display_name": "Python 3",
   "language": "python",
   "name": "python3"
  },
  "language_info": {
   "codemirror_mode": {
    "name": "ipython",
    "version": 3
   },
   "file_extension": ".py",
   "mimetype": "text/x-python",
   "name": "python",
   "nbconvert_exporter": "python",
   "pygments_lexer": "ipython3",
   "version": "3.9.5"
  }
 },
 "nbformat": 4,
 "nbformat_minor": 5
}
